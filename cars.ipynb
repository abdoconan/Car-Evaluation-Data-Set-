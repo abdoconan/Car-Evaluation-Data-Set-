{
 "cells": [
  {
   "cell_type": "code",
   "execution_count": 1,
   "metadata": {},
   "outputs": [],
   "source": [
    "with open(\"car.data\") as file:\n",
    "    lines = file.readlines()"
   ]
  },
  {
   "cell_type": "code",
   "execution_count": 2,
   "metadata": {},
   "outputs": [
    {
     "data": {
      "text/plain": [
       "1728"
      ]
     },
     "execution_count": 2,
     "metadata": {},
     "output_type": "execute_result"
    }
   ],
   "source": [
    "len(lines)"
   ]
  },
  {
   "cell_type": "code",
   "execution_count": 3,
   "metadata": {},
   "outputs": [
    {
     "data": {
      "text/plain": [
       "['vhigh,vhigh,2,2,small,low,unacc\\n',\n",
       " 'vhigh,vhigh,2,2,small,med,unacc\\n',\n",
       " 'vhigh,vhigh,2,2,small,high,unacc\\n',\n",
       " 'vhigh,vhigh,2,2,med,low,unacc\\n',\n",
       " 'vhigh,vhigh,2,2,med,med,unacc\\n']"
      ]
     },
     "execution_count": 3,
     "metadata": {},
     "output_type": "execute_result"
    }
   ],
   "source": [
    "lines[:5]"
   ]
  },
  {
   "cell_type": "code",
   "execution_count": 4,
   "metadata": {},
   "outputs": [],
   "source": [
    "for i in range(len(lines)):\n",
    "    lines[i] = lines[i].split(\",\")"
   ]
  },
  {
   "cell_type": "code",
   "execution_count": 5,
   "metadata": {},
   "outputs": [
    {
     "data": {
      "text/plain": [
       "[['vhigh', 'vhigh', '2', '2', 'small', 'low', 'unacc\\n'],\n",
       " ['vhigh', 'vhigh', '2', '2', 'small', 'med', 'unacc\\n'],\n",
       " ['vhigh', 'vhigh', '2', '2', 'small', 'high', 'unacc\\n'],\n",
       " ['vhigh', 'vhigh', '2', '2', 'med', 'low', 'unacc\\n'],\n",
       " ['vhigh', 'vhigh', '2', '2', 'med', 'med', 'unacc\\n']]"
      ]
     },
     "execution_count": 5,
     "metadata": {},
     "output_type": "execute_result"
    }
   ],
   "source": [
    "lines[:5]"
   ]
  },
  {
   "cell_type": "code",
   "execution_count": 6,
   "metadata": {},
   "outputs": [
    {
     "data": {
      "text/plain": [
       "[['vhigh', 'vhigh', '2', '2', 'small', 'low', 'unacc'],\n",
       " ['vhigh', 'vhigh', '2', '2', 'small', 'med', 'unacc'],\n",
       " ['vhigh', 'vhigh', '2', '2', 'small', 'high', 'unacc'],\n",
       " ['vhigh', 'vhigh', '2', '2', 'med', 'low', 'unacc'],\n",
       " ['vhigh', 'vhigh', '2', '2', 'med', 'med', 'unacc']]"
      ]
     },
     "execution_count": 6,
     "metadata": {},
     "output_type": "execute_result"
    }
   ],
   "source": [
    "for i in lines:\n",
    "    i[6] = i[6][:-1]\n",
    "lines[:5]"
   ]
  },
  {
   "cell_type": "code",
   "execution_count": 7,
   "metadata": {},
   "outputs": [],
   "source": [
    "buying_price = []\n",
    "maintenance_price = []\n",
    "number_of_doors = []\n",
    "persons_to_carry = []\n",
    "size_of_luggage_boot = []\n",
    "safety_of_the_car = []\n",
    "acceptance = []"
   ]
  },
  {
   "cell_type": "code",
   "execution_count": 8,
   "metadata": {},
   "outputs": [],
   "source": [
    "for i in lines:\n",
    "    buying_price.append(i[0])\n",
    "    maintenance_price.append(i[1])\n",
    "    number_of_doors.append(i[2])\n",
    "    persons_to_carry.append(i[3])\n",
    "    size_of_luggage_boot.append(i[4])\n",
    "    safety_of_the_car.append(i[5])\n",
    "    acceptance.append(i[6])"
   ]
  },
  {
   "cell_type": "code",
   "execution_count": 9,
   "metadata": {},
   "outputs": [],
   "source": [
    "for i in range(len(number_of_doors)):\n",
    "    if len(number_of_doors[i]) > 1:\n",
    "        number_of_doors[i] = number_of_doors[i][0]"
   ]
  },
  {
   "cell_type": "code",
   "execution_count": 10,
   "metadata": {},
   "outputs": [],
   "source": [
    "for i in range(len(persons_to_carry)):\n",
    "    if persons_to_carry[i] == \"more\":\n",
    "        persons_to_carry[i] = \"5\""
   ]
  },
  {
   "cell_type": "code",
   "execution_count": 11,
   "metadata": {},
   "outputs": [],
   "source": [
    "import numpy as np\n",
    "buying_price = np.array(buying_price)\n",
    "maintenance_price = np.array(maintenance_price)\n",
    "number_of_doors = np.array(number_of_doors)\n",
    "persons_to_carry = np.array(persons_to_carry)\n",
    "size_of_luggage_boot = np.array(size_of_luggage_boot)\n",
    "safety_of_the_car = np.array(safety_of_the_car)\n",
    "acceptance = np.array(acceptance)"
   ]
  },
  {
   "cell_type": "code",
   "execution_count": 12,
   "metadata": {},
   "outputs": [
    {
     "name": "stdout",
     "output_type": "stream",
     "text": [
      "(1728,)\n",
      "(1728,)\n",
      "(1728,)\n",
      "(1728,)\n",
      "(1728,)\n",
      "(1728,)\n",
      "(1728,)\n"
     ]
    }
   ],
   "source": [
    "print(buying_price.shape)\n",
    "print(maintenance_price.shape)\n",
    "print(number_of_doors.shape)\n",
    "print(persons_to_carry.shape)\n",
    "print(size_of_luggage_boot.shape)\n",
    "print(safety_of_the_car.shape)\n",
    "print(acceptance.shape)"
   ]
  },
  {
   "cell_type": "code",
   "execution_count": 13,
   "metadata": {},
   "outputs": [],
   "source": [
    "buying_price = buying_price.reshape(1728,1)\n",
    "maintenance_price = maintenance_price.reshape(1728,1)\n",
    "number_of_doors = number_of_doors.reshape(1728,1)\n",
    "persons_to_carry = persons_to_carry.reshape(1728,1)\n",
    "size_of_luggage_boot = size_of_luggage_boot.reshape(1728,1)\n",
    "safety_of_the_car = safety_of_the_car.reshape(1728,1)\n",
    "acceptance = acceptance.reshape(1728,1)"
   ]
  },
  {
   "cell_type": "code",
   "execution_count": 14,
   "metadata": {},
   "outputs": [],
   "source": [
    "import pandas as pd"
   ]
  },
  {
   "cell_type": "code",
   "execution_count": 15,
   "metadata": {},
   "outputs": [
    {
     "data": {
      "text/html": [
       "<div>\n",
       "<style scoped>\n",
       "    .dataframe tbody tr th:only-of-type {\n",
       "        vertical-align: middle;\n",
       "    }\n",
       "\n",
       "    .dataframe tbody tr th {\n",
       "        vertical-align: top;\n",
       "    }\n",
       "\n",
       "    .dataframe thead th {\n",
       "        text-align: right;\n",
       "    }\n",
       "</style>\n",
       "<table border=\"1\" class=\"dataframe\">\n",
       "  <thead>\n",
       "    <tr style=\"text-align: right;\">\n",
       "      <th></th>\n",
       "      <th>buying_price</th>\n",
       "      <th>maintenance_price</th>\n",
       "      <th>number_of_doors</th>\n",
       "      <th>persons_to_carry</th>\n",
       "      <th>size_of_luggage_boot</th>\n",
       "      <th>safety_of_the_car</th>\n",
       "      <th>acceptance</th>\n",
       "    </tr>\n",
       "  </thead>\n",
       "  <tbody>\n",
       "    <tr>\n",
       "      <th>0</th>\n",
       "      <td>vhigh</td>\n",
       "      <td>vhigh</td>\n",
       "      <td>2</td>\n",
       "      <td>2</td>\n",
       "      <td>small</td>\n",
       "      <td>low</td>\n",
       "      <td>unacc</td>\n",
       "    </tr>\n",
       "    <tr>\n",
       "      <th>1</th>\n",
       "      <td>vhigh</td>\n",
       "      <td>vhigh</td>\n",
       "      <td>2</td>\n",
       "      <td>2</td>\n",
       "      <td>small</td>\n",
       "      <td>med</td>\n",
       "      <td>unacc</td>\n",
       "    </tr>\n",
       "    <tr>\n",
       "      <th>2</th>\n",
       "      <td>vhigh</td>\n",
       "      <td>vhigh</td>\n",
       "      <td>2</td>\n",
       "      <td>2</td>\n",
       "      <td>small</td>\n",
       "      <td>high</td>\n",
       "      <td>unacc</td>\n",
       "    </tr>\n",
       "    <tr>\n",
       "      <th>3</th>\n",
       "      <td>vhigh</td>\n",
       "      <td>vhigh</td>\n",
       "      <td>2</td>\n",
       "      <td>2</td>\n",
       "      <td>med</td>\n",
       "      <td>low</td>\n",
       "      <td>unacc</td>\n",
       "    </tr>\n",
       "    <tr>\n",
       "      <th>4</th>\n",
       "      <td>vhigh</td>\n",
       "      <td>vhigh</td>\n",
       "      <td>2</td>\n",
       "      <td>2</td>\n",
       "      <td>med</td>\n",
       "      <td>med</td>\n",
       "      <td>unacc</td>\n",
       "    </tr>\n",
       "  </tbody>\n",
       "</table>\n",
       "</div>"
      ],
      "text/plain": [
       "  buying_price maintenance_price number_of_doors persons_to_carry  \\\n",
       "0        vhigh             vhigh               2                2   \n",
       "1        vhigh             vhigh               2                2   \n",
       "2        vhigh             vhigh               2                2   \n",
       "3        vhigh             vhigh               2                2   \n",
       "4        vhigh             vhigh               2                2   \n",
       "\n",
       "  size_of_luggage_boot safety_of_the_car acceptance  \n",
       "0                small               low      unacc  \n",
       "1                small               med      unacc  \n",
       "2                small              high      unacc  \n",
       "3                  med               low      unacc  \n",
       "4                  med               med      unacc  "
      ]
     },
     "execution_count": 15,
     "metadata": {},
     "output_type": "execute_result"
    }
   ],
   "source": [
    "data = pd.DataFrame(data = np.concatenate((buying_price, maintenance_price, number_of_doors,\n",
    "                    persons_to_carry, size_of_luggage_boot, safety_of_the_car,\n",
    "                    acceptance), axis=1), columns=[\"buying_price\", \"maintenance_price\", \"number_of_doors\",\n",
    "                    \"persons_to_carry\", \"size_of_luggage_boot\", \"safety_of_the_car\",\n",
    "                    \"acceptance\"])\n",
    "data.head()"
   ]
  },
  {
   "cell_type": "code",
   "execution_count": 16,
   "metadata": {},
   "outputs": [
    {
     "name": "stdout",
     "output_type": "stream",
     "text": [
      "<class 'pandas.core.frame.DataFrame'>\n",
      "RangeIndex: 1728 entries, 0 to 1727\n",
      "Data columns (total 7 columns):\n",
      "buying_price            1728 non-null object\n",
      "maintenance_price       1728 non-null object\n",
      "number_of_doors         1728 non-null object\n",
      "persons_to_carry        1728 non-null object\n",
      "size_of_luggage_boot    1728 non-null object\n",
      "safety_of_the_car       1728 non-null object\n",
      "acceptance              1728 non-null object\n",
      "dtypes: object(7)\n",
      "memory usage: 94.6+ KB\n"
     ]
    }
   ],
   "source": [
    "data.info()"
   ]
  },
  {
   "cell_type": "code",
   "execution_count": 17,
   "metadata": {},
   "outputs": [
    {
     "data": {
      "text/html": [
       "<div>\n",
       "<style scoped>\n",
       "    .dataframe tbody tr th:only-of-type {\n",
       "        vertical-align: middle;\n",
       "    }\n",
       "\n",
       "    .dataframe tbody tr th {\n",
       "        vertical-align: top;\n",
       "    }\n",
       "\n",
       "    .dataframe thead th {\n",
       "        text-align: right;\n",
       "    }\n",
       "</style>\n",
       "<table border=\"1\" class=\"dataframe\">\n",
       "  <thead>\n",
       "    <tr style=\"text-align: right;\">\n",
       "      <th></th>\n",
       "      <th>buying_price</th>\n",
       "      <th>maintenance_price</th>\n",
       "      <th>number_of_doors</th>\n",
       "      <th>persons_to_carry</th>\n",
       "      <th>size_of_luggage_boot</th>\n",
       "      <th>safety_of_the_car</th>\n",
       "      <th>acceptance</th>\n",
       "    </tr>\n",
       "  </thead>\n",
       "  <tbody>\n",
       "    <tr>\n",
       "      <th>count</th>\n",
       "      <td>1728</td>\n",
       "      <td>1728</td>\n",
       "      <td>1728</td>\n",
       "      <td>1728</td>\n",
       "      <td>1728</td>\n",
       "      <td>1728</td>\n",
       "      <td>1728</td>\n",
       "    </tr>\n",
       "    <tr>\n",
       "      <th>unique</th>\n",
       "      <td>4</td>\n",
       "      <td>4</td>\n",
       "      <td>4</td>\n",
       "      <td>3</td>\n",
       "      <td>3</td>\n",
       "      <td>3</td>\n",
       "      <td>4</td>\n",
       "    </tr>\n",
       "    <tr>\n",
       "      <th>top</th>\n",
       "      <td>vhigh</td>\n",
       "      <td>vhigh</td>\n",
       "      <td>3</td>\n",
       "      <td>5</td>\n",
       "      <td>big</td>\n",
       "      <td>low</td>\n",
       "      <td>unacc</td>\n",
       "    </tr>\n",
       "    <tr>\n",
       "      <th>freq</th>\n",
       "      <td>432</td>\n",
       "      <td>432</td>\n",
       "      <td>432</td>\n",
       "      <td>576</td>\n",
       "      <td>576</td>\n",
       "      <td>576</td>\n",
       "      <td>1210</td>\n",
       "    </tr>\n",
       "  </tbody>\n",
       "</table>\n",
       "</div>"
      ],
      "text/plain": [
       "       buying_price maintenance_price number_of_doors persons_to_carry  \\\n",
       "count          1728              1728            1728             1728   \n",
       "unique            4                 4               4                3   \n",
       "top           vhigh             vhigh               3                5   \n",
       "freq            432               432             432              576   \n",
       "\n",
       "       size_of_luggage_boot safety_of_the_car acceptance  \n",
       "count                  1728              1728       1728  \n",
       "unique                    3                 3          4  \n",
       "top                     big               low      unacc  \n",
       "freq                    576               576       1210  "
      ]
     },
     "execution_count": 17,
     "metadata": {},
     "output_type": "execute_result"
    }
   ],
   "source": [
    "data.describe()"
   ]
  },
  {
   "cell_type": "code",
   "execution_count": 18,
   "metadata": {},
   "outputs": [
    {
     "data": {
      "text/plain": [
       "unacc    1210\n",
       "acc       384\n",
       "good       69\n",
       "vgood      65\n",
       "Name: acceptance, dtype: int64"
      ]
     },
     "execution_count": 18,
     "metadata": {},
     "output_type": "execute_result"
    }
   ],
   "source": [
    "data[\"acceptance\"].value_counts()"
   ]
  },
  {
   "cell_type": "code",
   "execution_count": 19,
   "metadata": {},
   "outputs": [],
   "source": [
    "data[\"number_of_doors\"] = data[\"number_of_doors\"].apply(np.int)"
   ]
  },
  {
   "cell_type": "code",
   "execution_count": 20,
   "metadata": {},
   "outputs": [],
   "source": [
    "data[\"persons_to_carry\"] = data[\"persons_to_carry\"].apply(np.int)"
   ]
  },
  {
   "cell_type": "code",
   "execution_count": 21,
   "metadata": {},
   "outputs": [
    {
     "name": "stdout",
     "output_type": "stream",
     "text": [
      "<class 'pandas.core.frame.DataFrame'>\n",
      "RangeIndex: 1728 entries, 0 to 1727\n",
      "Data columns (total 7 columns):\n",
      "buying_price            1728 non-null object\n",
      "maintenance_price       1728 non-null object\n",
      "number_of_doors         1728 non-null int64\n",
      "persons_to_carry        1728 non-null int64\n",
      "size_of_luggage_boot    1728 non-null object\n",
      "safety_of_the_car       1728 non-null object\n",
      "acceptance              1728 non-null object\n",
      "dtypes: int64(2), object(5)\n",
      "memory usage: 94.6+ KB\n"
     ]
    }
   ],
   "source": [
    "data.info()"
   ]
  },
  {
   "cell_type": "code",
   "execution_count": 22,
   "metadata": {},
   "outputs": [],
   "source": [
    "def clean(x):\n",
    "    if x == \"low\":\n",
    "        return 1\n",
    "    if x == \"med\":\n",
    "        return 2\n",
    "    if x == \"high\":\n",
    "        return 3\n",
    "    if x == \"vhigh\":\n",
    "        return 4"
   ]
  },
  {
   "cell_type": "code",
   "execution_count": 23,
   "metadata": {},
   "outputs": [],
   "source": [
    "data[\"buying_price\"] = data[\"buying_price\"].apply(clean)\n",
    "data[\"maintenance_price\"] =data[\"maintenance_price\"].apply(clean)"
   ]
  },
  {
   "cell_type": "code",
   "execution_count": 24,
   "metadata": {},
   "outputs": [
    {
     "data": {
      "text/html": [
       "<div>\n",
       "<style scoped>\n",
       "    .dataframe tbody tr th:only-of-type {\n",
       "        vertical-align: middle;\n",
       "    }\n",
       "\n",
       "    .dataframe tbody tr th {\n",
       "        vertical-align: top;\n",
       "    }\n",
       "\n",
       "    .dataframe thead th {\n",
       "        text-align: right;\n",
       "    }\n",
       "</style>\n",
       "<table border=\"1\" class=\"dataframe\">\n",
       "  <thead>\n",
       "    <tr style=\"text-align: right;\">\n",
       "      <th></th>\n",
       "      <th>buying_price</th>\n",
       "      <th>maintenance_price</th>\n",
       "      <th>number_of_doors</th>\n",
       "      <th>persons_to_carry</th>\n",
       "      <th>size_of_luggage_boot</th>\n",
       "      <th>safety_of_the_car</th>\n",
       "      <th>acceptance</th>\n",
       "    </tr>\n",
       "  </thead>\n",
       "  <tbody>\n",
       "    <tr>\n",
       "      <th>0</th>\n",
       "      <td>4</td>\n",
       "      <td>4</td>\n",
       "      <td>2</td>\n",
       "      <td>2</td>\n",
       "      <td>small</td>\n",
       "      <td>low</td>\n",
       "      <td>unacc</td>\n",
       "    </tr>\n",
       "    <tr>\n",
       "      <th>1</th>\n",
       "      <td>4</td>\n",
       "      <td>4</td>\n",
       "      <td>2</td>\n",
       "      <td>2</td>\n",
       "      <td>small</td>\n",
       "      <td>med</td>\n",
       "      <td>unacc</td>\n",
       "    </tr>\n",
       "    <tr>\n",
       "      <th>2</th>\n",
       "      <td>4</td>\n",
       "      <td>4</td>\n",
       "      <td>2</td>\n",
       "      <td>2</td>\n",
       "      <td>small</td>\n",
       "      <td>high</td>\n",
       "      <td>unacc</td>\n",
       "    </tr>\n",
       "    <tr>\n",
       "      <th>3</th>\n",
       "      <td>4</td>\n",
       "      <td>4</td>\n",
       "      <td>2</td>\n",
       "      <td>2</td>\n",
       "      <td>med</td>\n",
       "      <td>low</td>\n",
       "      <td>unacc</td>\n",
       "    </tr>\n",
       "    <tr>\n",
       "      <th>4</th>\n",
       "      <td>4</td>\n",
       "      <td>4</td>\n",
       "      <td>2</td>\n",
       "      <td>2</td>\n",
       "      <td>med</td>\n",
       "      <td>med</td>\n",
       "      <td>unacc</td>\n",
       "    </tr>\n",
       "  </tbody>\n",
       "</table>\n",
       "</div>"
      ],
      "text/plain": [
       "   buying_price  maintenance_price  number_of_doors  persons_to_carry  \\\n",
       "0             4                  4                2                 2   \n",
       "1             4                  4                2                 2   \n",
       "2             4                  4                2                 2   \n",
       "3             4                  4                2                 2   \n",
       "4             4                  4                2                 2   \n",
       "\n",
       "  size_of_luggage_boot safety_of_the_car acceptance  \n",
       "0                small               low      unacc  \n",
       "1                small               med      unacc  \n",
       "2                small              high      unacc  \n",
       "3                  med               low      unacc  \n",
       "4                  med               med      unacc  "
      ]
     },
     "execution_count": 24,
     "metadata": {},
     "output_type": "execute_result"
    }
   ],
   "source": [
    "data.head()"
   ]
  },
  {
   "cell_type": "code",
   "execution_count": 25,
   "metadata": {},
   "outputs": [],
   "source": [
    "def clean(x):\n",
    "    if x == \"small\":\n",
    "        return 1\n",
    "    if x == \"med\":\n",
    "        return 2\n",
    "    if x == \"big\":\n",
    "        return 3"
   ]
  },
  {
   "cell_type": "code",
   "execution_count": 26,
   "metadata": {},
   "outputs": [
    {
     "data": {
      "text/html": [
       "<div>\n",
       "<style scoped>\n",
       "    .dataframe tbody tr th:only-of-type {\n",
       "        vertical-align: middle;\n",
       "    }\n",
       "\n",
       "    .dataframe tbody tr th {\n",
       "        vertical-align: top;\n",
       "    }\n",
       "\n",
       "    .dataframe thead th {\n",
       "        text-align: right;\n",
       "    }\n",
       "</style>\n",
       "<table border=\"1\" class=\"dataframe\">\n",
       "  <thead>\n",
       "    <tr style=\"text-align: right;\">\n",
       "      <th></th>\n",
       "      <th>buying_price</th>\n",
       "      <th>maintenance_price</th>\n",
       "      <th>number_of_doors</th>\n",
       "      <th>persons_to_carry</th>\n",
       "      <th>size_of_luggage_boot</th>\n",
       "      <th>safety_of_the_car</th>\n",
       "      <th>acceptance</th>\n",
       "    </tr>\n",
       "  </thead>\n",
       "  <tbody>\n",
       "    <tr>\n",
       "      <th>0</th>\n",
       "      <td>4</td>\n",
       "      <td>4</td>\n",
       "      <td>2</td>\n",
       "      <td>2</td>\n",
       "      <td>1</td>\n",
       "      <td>low</td>\n",
       "      <td>unacc</td>\n",
       "    </tr>\n",
       "    <tr>\n",
       "      <th>1</th>\n",
       "      <td>4</td>\n",
       "      <td>4</td>\n",
       "      <td>2</td>\n",
       "      <td>2</td>\n",
       "      <td>1</td>\n",
       "      <td>med</td>\n",
       "      <td>unacc</td>\n",
       "    </tr>\n",
       "    <tr>\n",
       "      <th>2</th>\n",
       "      <td>4</td>\n",
       "      <td>4</td>\n",
       "      <td>2</td>\n",
       "      <td>2</td>\n",
       "      <td>1</td>\n",
       "      <td>high</td>\n",
       "      <td>unacc</td>\n",
       "    </tr>\n",
       "    <tr>\n",
       "      <th>3</th>\n",
       "      <td>4</td>\n",
       "      <td>4</td>\n",
       "      <td>2</td>\n",
       "      <td>2</td>\n",
       "      <td>2</td>\n",
       "      <td>low</td>\n",
       "      <td>unacc</td>\n",
       "    </tr>\n",
       "    <tr>\n",
       "      <th>4</th>\n",
       "      <td>4</td>\n",
       "      <td>4</td>\n",
       "      <td>2</td>\n",
       "      <td>2</td>\n",
       "      <td>2</td>\n",
       "      <td>med</td>\n",
       "      <td>unacc</td>\n",
       "    </tr>\n",
       "  </tbody>\n",
       "</table>\n",
       "</div>"
      ],
      "text/plain": [
       "   buying_price  maintenance_price  number_of_doors  persons_to_carry  \\\n",
       "0             4                  4                2                 2   \n",
       "1             4                  4                2                 2   \n",
       "2             4                  4                2                 2   \n",
       "3             4                  4                2                 2   \n",
       "4             4                  4                2                 2   \n",
       "\n",
       "   size_of_luggage_boot safety_of_the_car acceptance  \n",
       "0                     1               low      unacc  \n",
       "1                     1               med      unacc  \n",
       "2                     1              high      unacc  \n",
       "3                     2               low      unacc  \n",
       "4                     2               med      unacc  "
      ]
     },
     "execution_count": 26,
     "metadata": {},
     "output_type": "execute_result"
    }
   ],
   "source": [
    "data[\"size_of_luggage_boot\"] = data[\"size_of_luggage_boot\"].apply(clean)\n",
    "#data[\"safety_of_the_car\"] = data[\"safety_of_the_car\"].apply(clean)\n",
    "data.head()"
   ]
  },
  {
   "cell_type": "code",
   "execution_count": 27,
   "metadata": {},
   "outputs": [],
   "source": [
    "def clean(x):\n",
    "    if x == \"low\":\n",
    "        return 1\n",
    "    if x == \"med\":\n",
    "        return 2\n",
    "    if x == \"high\":\n",
    "        return 3"
   ]
  },
  {
   "cell_type": "code",
   "execution_count": 28,
   "metadata": {},
   "outputs": [],
   "source": [
    "data[\"safety_of_the_car\"] = data[\"safety_of_the_car\"].apply(clean)"
   ]
  },
  {
   "cell_type": "code",
   "execution_count": 29,
   "metadata": {},
   "outputs": [
    {
     "data": {
      "text/html": [
       "<div>\n",
       "<style scoped>\n",
       "    .dataframe tbody tr th:only-of-type {\n",
       "        vertical-align: middle;\n",
       "    }\n",
       "\n",
       "    .dataframe tbody tr th {\n",
       "        vertical-align: top;\n",
       "    }\n",
       "\n",
       "    .dataframe thead th {\n",
       "        text-align: right;\n",
       "    }\n",
       "</style>\n",
       "<table border=\"1\" class=\"dataframe\">\n",
       "  <thead>\n",
       "    <tr style=\"text-align: right;\">\n",
       "      <th></th>\n",
       "      <th>buying_price</th>\n",
       "      <th>maintenance_price</th>\n",
       "      <th>number_of_doors</th>\n",
       "      <th>persons_to_carry</th>\n",
       "      <th>size_of_luggage_boot</th>\n",
       "      <th>safety_of_the_car</th>\n",
       "      <th>acceptance</th>\n",
       "    </tr>\n",
       "  </thead>\n",
       "  <tbody>\n",
       "    <tr>\n",
       "      <th>0</th>\n",
       "      <td>4</td>\n",
       "      <td>4</td>\n",
       "      <td>2</td>\n",
       "      <td>2</td>\n",
       "      <td>1</td>\n",
       "      <td>1</td>\n",
       "      <td>unacc</td>\n",
       "    </tr>\n",
       "    <tr>\n",
       "      <th>1</th>\n",
       "      <td>4</td>\n",
       "      <td>4</td>\n",
       "      <td>2</td>\n",
       "      <td>2</td>\n",
       "      <td>1</td>\n",
       "      <td>2</td>\n",
       "      <td>unacc</td>\n",
       "    </tr>\n",
       "    <tr>\n",
       "      <th>2</th>\n",
       "      <td>4</td>\n",
       "      <td>4</td>\n",
       "      <td>2</td>\n",
       "      <td>2</td>\n",
       "      <td>1</td>\n",
       "      <td>3</td>\n",
       "      <td>unacc</td>\n",
       "    </tr>\n",
       "    <tr>\n",
       "      <th>3</th>\n",
       "      <td>4</td>\n",
       "      <td>4</td>\n",
       "      <td>2</td>\n",
       "      <td>2</td>\n",
       "      <td>2</td>\n",
       "      <td>1</td>\n",
       "      <td>unacc</td>\n",
       "    </tr>\n",
       "    <tr>\n",
       "      <th>4</th>\n",
       "      <td>4</td>\n",
       "      <td>4</td>\n",
       "      <td>2</td>\n",
       "      <td>2</td>\n",
       "      <td>2</td>\n",
       "      <td>2</td>\n",
       "      <td>unacc</td>\n",
       "    </tr>\n",
       "  </tbody>\n",
       "</table>\n",
       "</div>"
      ],
      "text/plain": [
       "   buying_price  maintenance_price  number_of_doors  persons_to_carry  \\\n",
       "0             4                  4                2                 2   \n",
       "1             4                  4                2                 2   \n",
       "2             4                  4                2                 2   \n",
       "3             4                  4                2                 2   \n",
       "4             4                  4                2                 2   \n",
       "\n",
       "   size_of_luggage_boot  safety_of_the_car acceptance  \n",
       "0                     1                  1      unacc  \n",
       "1                     1                  2      unacc  \n",
       "2                     1                  3      unacc  \n",
       "3                     2                  1      unacc  \n",
       "4                     2                  2      unacc  "
      ]
     },
     "execution_count": 29,
     "metadata": {},
     "output_type": "execute_result"
    }
   ],
   "source": [
    "data.head()"
   ]
  },
  {
   "cell_type": "code",
   "execution_count": 30,
   "metadata": {},
   "outputs": [
    {
     "name": "stdout",
     "output_type": "stream",
     "text": [
      "<class 'pandas.core.frame.DataFrame'>\n",
      "RangeIndex: 1728 entries, 0 to 1727\n",
      "Data columns (total 7 columns):\n",
      "buying_price            1728 non-null int64\n",
      "maintenance_price       1728 non-null int64\n",
      "number_of_doors         1728 non-null int64\n",
      "persons_to_carry        1728 non-null int64\n",
      "size_of_luggage_boot    1728 non-null int64\n",
      "safety_of_the_car       1728 non-null int64\n",
      "acceptance              1728 non-null object\n",
      "dtypes: int64(6), object(1)\n",
      "memory usage: 94.6+ KB\n"
     ]
    }
   ],
   "source": [
    "data.info()"
   ]
  },
  {
   "cell_type": "code",
   "execution_count": 31,
   "metadata": {},
   "outputs": [
    {
     "data": {
      "text/html": [
       "<div>\n",
       "<style scoped>\n",
       "    .dataframe tbody tr th:only-of-type {\n",
       "        vertical-align: middle;\n",
       "    }\n",
       "\n",
       "    .dataframe tbody tr th {\n",
       "        vertical-align: top;\n",
       "    }\n",
       "\n",
       "    .dataframe thead th {\n",
       "        text-align: right;\n",
       "    }\n",
       "</style>\n",
       "<table border=\"1\" class=\"dataframe\">\n",
       "  <thead>\n",
       "    <tr style=\"text-align: right;\">\n",
       "      <th></th>\n",
       "      <th>buying_price</th>\n",
       "      <th>maintenance_price</th>\n",
       "      <th>number_of_doors</th>\n",
       "      <th>persons_to_carry</th>\n",
       "      <th>size_of_luggage_boot</th>\n",
       "      <th>safety_of_the_car</th>\n",
       "      <th>acceptance</th>\n",
       "    </tr>\n",
       "  </thead>\n",
       "  <tbody>\n",
       "    <tr>\n",
       "      <th>0</th>\n",
       "      <td>1</td>\n",
       "      <td>3</td>\n",
       "      <td>3</td>\n",
       "      <td>2</td>\n",
       "      <td>2</td>\n",
       "      <td>3</td>\n",
       "      <td>unacc</td>\n",
       "    </tr>\n",
       "    <tr>\n",
       "      <th>1</th>\n",
       "      <td>3</td>\n",
       "      <td>1</td>\n",
       "      <td>2</td>\n",
       "      <td>2</td>\n",
       "      <td>2</td>\n",
       "      <td>1</td>\n",
       "      <td>unacc</td>\n",
       "    </tr>\n",
       "    <tr>\n",
       "      <th>2</th>\n",
       "      <td>4</td>\n",
       "      <td>2</td>\n",
       "      <td>3</td>\n",
       "      <td>5</td>\n",
       "      <td>1</td>\n",
       "      <td>2</td>\n",
       "      <td>unacc</td>\n",
       "    </tr>\n",
       "    <tr>\n",
       "      <th>3</th>\n",
       "      <td>3</td>\n",
       "      <td>1</td>\n",
       "      <td>4</td>\n",
       "      <td>2</td>\n",
       "      <td>2</td>\n",
       "      <td>2</td>\n",
       "      <td>unacc</td>\n",
       "    </tr>\n",
       "    <tr>\n",
       "      <th>4</th>\n",
       "      <td>2</td>\n",
       "      <td>3</td>\n",
       "      <td>2</td>\n",
       "      <td>5</td>\n",
       "      <td>1</td>\n",
       "      <td>1</td>\n",
       "      <td>unacc</td>\n",
       "    </tr>\n",
       "  </tbody>\n",
       "</table>\n",
       "</div>"
      ],
      "text/plain": [
       "   buying_price  maintenance_price  number_of_doors  persons_to_carry  \\\n",
       "0             1                  3                3                 2   \n",
       "1             3                  1                2                 2   \n",
       "2             4                  2                3                 5   \n",
       "3             3                  1                4                 2   \n",
       "4             2                  3                2                 5   \n",
       "\n",
       "   size_of_luggage_boot  safety_of_the_car acceptance  \n",
       "0                     2                  3      unacc  \n",
       "1                     2                  1      unacc  \n",
       "2                     1                  2      unacc  \n",
       "3                     2                  2      unacc  \n",
       "4                     1                  1      unacc  "
      ]
     },
     "execution_count": 31,
     "metadata": {},
     "output_type": "execute_result"
    }
   ],
   "source": [
    "data = data.sample(frac=1.).reset_index(drop=True)\n",
    "data.head()"
   ]
  },
  {
   "cell_type": "code",
   "execution_count": 32,
   "metadata": {},
   "outputs": [
    {
     "name": "stdout",
     "output_type": "stream",
     "text": [
      "(1728, 6) (1728,)\n"
     ]
    }
   ],
   "source": [
    "X = data.iloc[:,0:6].values\n",
    "y = data.iloc[:,6].values\n",
    "print(X.shape, y.shape)"
   ]
  },
  {
   "cell_type": "code",
   "execution_count": 33,
   "metadata": {},
   "outputs": [],
   "source": [
    "import matplotlib.pyplot as plt\n",
    "import seaborn as sns\n",
    "sns.set_style(\"darkgrid\")\n",
    "%matplotlib inline"
   ]
  },
  {
   "cell_type": "code",
   "execution_count": 34,
   "metadata": {
    "scrolled": true
   },
   "outputs": [
    {
     "data": {
      "image/png": "[encoded data removed]",
      "text/plain": [
       "<Figure size 432x288 with 1 Axes>"
      ]
     },
     "metadata": {
      "needs_background": "light"
     },
     "output_type": "display_data"
    }
   ],
   "source": [
    "sns.distplot(data[\"safety_of_the_car\"]);"
   ]
  },
  {
   "cell_type": "code",
   "execution_count": 35,
   "metadata": {},
   "outputs": [],
   "source": [
    "from sklearn.model_selection import train_test_split\n",
    "from sklearn.linear_model import LogisticRegression"
   ]
  },
  {
   "cell_type": "code",
   "execution_count": 36,
   "metadata": {},
   "outputs": [],
   "source": [
    "X_train, X_test, y_train, y_test = train_test_split(X, y, test_size=0.33, random_state=101)"
   ]
  },
  {
   "cell_type": "code",
   "execution_count": 37,
   "metadata": {},
   "outputs": [
    {
     "name": "stderr",
     "output_type": "stream",
     "text": [
      "C:\\Users\\Conan\\Anaconda3\\lib\\site-packages\\sklearn\\linear_model\\logistic.py:433: FutureWarning: Default solver will be changed to 'lbfgs' in 0.22. Specify a solver to silence this warning.\n",
      "  FutureWarning)\n",
      "C:\\Users\\Conan\\Anaconda3\\lib\\site-packages\\sklearn\\linear_model\\logistic.py:460: FutureWarning: Default multi_class will be changed to 'auto' in 0.22. Specify the multi_class option to silence this warning.\n",
      "  \"this warning.\", FutureWarning)\n"
     ]
    }
   ],
   "source": [
    "lr = LogisticRegression()\n",
    "lr.fit(X_train,y_train);"
   ]
  },
  {
   "cell_type": "code",
   "execution_count": 38,
   "metadata": {},
   "outputs": [],
   "source": [
    "predictions = lr.predict(X_test)"
   ]
  },
  {
   "cell_type": "code",
   "execution_count": 39,
   "metadata": {},
   "outputs": [
    {
     "name": "stdout",
     "output_type": "stream",
     "text": [
      "              precision    recall  f1-score   support\n",
      "\n",
      "         acc       0.66      0.55      0.60       139\n",
      "        good       0.38      0.14      0.21        21\n",
      "       unacc       0.86      0.97      0.91       392\n",
      "       vgood       0.25      0.05      0.09        19\n",
      "\n",
      "   micro avg       0.80      0.80      0.80       571\n",
      "   macro avg       0.53      0.43      0.45       571\n",
      "weighted avg       0.77      0.80      0.78       571\n",
      "\n"
     ]
    }
   ],
   "source": [
    "from sklearn.metrics import classification_report\n",
    "print(classification_report(y_test,predictions))"
   ]
  },
  {
   "cell_type": "code",
   "execution_count": 40,
   "metadata": {},
   "outputs": [
    {
     "data": {
      "text/plain": [
       "(1728, 4)"
      ]
     },
     "execution_count": 40,
     "metadata": {},
     "output_type": "execute_result"
    }
   ],
   "source": [
    "y = pd.get_dummies(data[\"acceptance\"]).iloc[:,:].values\n",
    "y.shape"
   ]
  },
  {
   "cell_type": "code",
   "execution_count": 41,
   "metadata": {},
   "outputs": [],
   "source": [
    "X_train, X_test, y_train, y_test = train_test_split(X, y, test_size=0.33, random_state=101)"
   ]
  },
  {
   "cell_type": "code",
   "execution_count": 42,
   "metadata": {},
   "outputs": [
    {
     "name": "stderr",
     "output_type": "stream",
     "text": [
      "Using TensorFlow backend.\n"
     ]
    }
   ],
   "source": [
    "from keras.models import Sequential\n",
    "from keras.layers import Dense\n",
    "from keras.optimizers import Adam"
   ]
  },
  {
   "cell_type": "code",
   "execution_count": 43,
   "metadata": {},
   "outputs": [],
   "source": [
    "model = Sequential()\n",
    "model.add(Dense(16,activation=\"sigmoid\",input_dim=6))\n",
    "model.add(Dense(8,activation=\"sigmoid\"))\n",
    "model.add(Dense(4,activation=\"softmax\"))"
   ]
  },
  {
   "cell_type": "code",
   "execution_count": 44,
   "metadata": {},
   "outputs": [],
   "source": [
    "model.compile(optimizer=Adam(lr=0.01),metrics=[\"accuracy\"],loss=\"categorical_crossentropy\")"
   ]
  },
  {
   "cell_type": "code",
   "execution_count": 45,
   "metadata": {
    "scrolled": true
   },
   "outputs": [
    {
     "name": "stdout",
     "output_type": "stream",
     "text": [
      "Train on 1157 samples, validate on 571 samples\n",
      "Epoch 1/90\n",
      "1157/1157 [==============================] - 4s 4ms/step - loss: 0.9098 - acc: 0.7010 - val_loss: 0.8136 - val_acc: 0.6865\n",
      "Epoch 2/90\n",
      "1157/1157 [==============================] - 0s 93us/step - loss: 0.7929 - acc: 0.7070 - val_loss: 0.7637 - val_acc: 0.6865\n",
      "Epoch 3/90\n",
      "1157/1157 [==============================] - 0s 93us/step - loss: 0.7170 - acc: 0.7070 - val_loss: 0.6451 - val_acc: 0.6865\n",
      "Epoch 4/90\n",
      "1157/1157 [==============================] - 0s 103us/step - loss: 0.6191 - acc: 0.7390 - val_loss: 0.5613 - val_acc: 0.7828\n",
      "Epoch 5/90\n",
      "1157/1157 [==============================] - 0s 115us/step - loss: 0.5519 - acc: 0.7727 - val_loss: 0.5112 - val_acc: 0.8196\n",
      "Epoch 6/90\n",
      "1157/1157 [==============================] - 0s 115us/step - loss: 0.5151 - acc: 0.7900 - val_loss: 0.4724 - val_acc: 0.8319\n",
      "Epoch 7/90\n",
      "1157/1157 [==============================] - 0s 102us/step - loss: 0.4712 - acc: 0.8099 - val_loss: 0.4369 - val_acc: 0.8476\n",
      "Epoch 8/90\n",
      "1157/1157 [==============================] - 0s 99us/step - loss: 0.4385 - acc: 0.8202 - val_loss: 0.4075 - val_acc: 0.8441\n",
      "Epoch 9/90\n",
      "1157/1157 [==============================] - 0s 99us/step - loss: 0.4008 - acc: 0.8315 - val_loss: 0.3725 - val_acc: 0.8669\n",
      "Epoch 10/90\n",
      "1157/1157 [==============================] - 0s 101us/step - loss: 0.3785 - acc: 0.8392 - val_loss: 0.3627 - val_acc: 0.8406\n",
      "Epoch 11/90\n",
      "1157/1157 [==============================] - 0s 102us/step - loss: 0.3464 - acc: 0.8444 - val_loss: 0.3188 - val_acc: 0.8774\n",
      "Epoch 12/90\n",
      "1157/1157 [==============================] - 0s 96us/step - loss: 0.3355 - acc: 0.8487 - val_loss: 0.3008 - val_acc: 0.8704\n",
      "Epoch 13/90\n",
      "1157/1157 [==============================] - 0s 96us/step - loss: 0.2912 - acc: 0.8729 - val_loss: 0.2794 - val_acc: 0.9054\n",
      "Epoch 14/90\n",
      "1157/1157 [==============================] - 0s 99us/step - loss: 0.2862 - acc: 0.8868 - val_loss: 0.2676 - val_acc: 0.9054\n",
      "Epoch 15/90\n",
      "1157/1157 [==============================] - 0s 95us/step - loss: 0.2692 - acc: 0.8928 - val_loss: 0.2578 - val_acc: 0.8949\n",
      "Epoch 16/90\n",
      "1157/1157 [==============================] - 0s 94us/step - loss: 0.2567 - acc: 0.8885 - val_loss: 0.2424 - val_acc: 0.9054\n",
      "Epoch 17/90\n",
      "1157/1157 [==============================] - 0s 99us/step - loss: 0.2442 - acc: 0.9075 - val_loss: 0.2616 - val_acc: 0.8984\n",
      "Epoch 18/90\n",
      "1157/1157 [==============================] - 0s 100us/step - loss: 0.2377 - acc: 0.9067 - val_loss: 0.2362 - val_acc: 0.9054\n",
      "Epoch 19/90\n",
      "1157/1157 [==============================] - 0s 99us/step - loss: 0.2322 - acc: 0.9136 - val_loss: 0.2331 - val_acc: 0.9142\n",
      "Epoch 20/90\n",
      "1157/1157 [==============================] - 0s 96us/step - loss: 0.2242 - acc: 0.9162 - val_loss: 0.2245 - val_acc: 0.8949\n",
      "Epoch 21/90\n",
      "1157/1157 [==============================] - 0s 99us/step - loss: 0.2269 - acc: 0.9023 - val_loss: 0.2312 - val_acc: 0.9124\n",
      "Epoch 22/90\n",
      "1157/1157 [==============================] - 0s 101us/step - loss: 0.2141 - acc: 0.9153 - val_loss: 0.2104 - val_acc: 0.9177\n",
      "Epoch 23/90\n",
      "1157/1157 [==============================] - 0s 98us/step - loss: 0.2270 - acc: 0.9067 - val_loss: 0.2269 - val_acc: 0.8967\n",
      "Epoch 24/90\n",
      "1157/1157 [==============================] - 0s 95us/step - loss: 0.2038 - acc: 0.9153 - val_loss: 0.2347 - val_acc: 0.9054\n",
      "Epoch 25/90\n",
      "1157/1157 [==============================] - 0s 100us/step - loss: 0.2071 - acc: 0.9205 - val_loss: 0.2214 - val_acc: 0.8984\n",
      "Epoch 26/90\n",
      "1157/1157 [==============================] - 0s 102us/step - loss: 0.2006 - acc: 0.9213 - val_loss: 0.2038 - val_acc: 0.9212\n",
      "Epoch 27/90\n",
      "1157/1157 [==============================] - 0s 103us/step - loss: 0.1957 - acc: 0.9257 - val_loss: 0.2133 - val_acc: 0.9194\n",
      "Epoch 28/90\n",
      "1157/1157 [==============================] - 0s 101us/step - loss: 0.1844 - acc: 0.9283 - val_loss: 0.2748 - val_acc: 0.8827\n",
      "Epoch 29/90\n",
      "1157/1157 [==============================] - 0s 97us/step - loss: 0.1903 - acc: 0.9222 - val_loss: 0.2023 - val_acc: 0.9212\n",
      "Epoch 30/90\n",
      "1157/1157 [==============================] - 0s 101us/step - loss: 0.1845 - acc: 0.9248 - val_loss: 0.2093 - val_acc: 0.9142\n",
      "Epoch 31/90\n",
      "1157/1157 [==============================] - 0s 97us/step - loss: 0.1781 - acc: 0.9352 - val_loss: 0.2005 - val_acc: 0.9159\n",
      "Epoch 32/90\n",
      "1157/1157 [==============================] - 0s 97us/step - loss: 0.1910 - acc: 0.9179 - val_loss: 0.2038 - val_acc: 0.9124\n",
      "Epoch 33/90\n",
      "1157/1157 [==============================] - 0s 99us/step - loss: 0.1853 - acc: 0.9248 - val_loss: 0.2096 - val_acc: 0.9072\n",
      "Epoch 34/90\n",
      "1157/1157 [==============================] - 0s 108us/step - loss: 0.1730 - acc: 0.9326 - val_loss: 0.2157 - val_acc: 0.9089\n",
      "Epoch 35/90\n",
      "1157/1157 [==============================] - 0s 107us/step - loss: 0.1687 - acc: 0.9326 - val_loss: 0.2642 - val_acc: 0.8844\n",
      "Epoch 36/90\n",
      "1157/1157 [==============================] - 0s 112us/step - loss: 0.1783 - acc: 0.9291 - val_loss: 0.2026 - val_acc: 0.9107\n",
      "Epoch 37/90\n",
      "1157/1157 [==============================] - 0s 104us/step - loss: 0.1811 - acc: 0.9213 - val_loss: 0.2572 - val_acc: 0.9019\n",
      "Epoch 38/90\n",
      "1157/1157 [==============================] - 0s 98us/step - loss: 0.1841 - acc: 0.9213 - val_loss: 0.1860 - val_acc: 0.9159\n",
      "Epoch 39/90\n",
      "1157/1157 [==============================] - 0s 102us/step - loss: 0.1646 - acc: 0.9343 - val_loss: 0.1887 - val_acc: 0.9194\n",
      "Epoch 40/90\n",
      "1157/1157 [==============================] - 0s 100us/step - loss: 0.1656 - acc: 0.9222 - val_loss: 0.2057 - val_acc: 0.9107\n",
      "Epoch 41/90\n",
      "1157/1157 [==============================] - 0s 109us/step - loss: 0.1610 - acc: 0.9291 - val_loss: 0.2486 - val_acc: 0.8984\n",
      "Epoch 42/90\n",
      "1157/1157 [==============================] - 0s 102us/step - loss: 0.1649 - acc: 0.9291 - val_loss: 0.1789 - val_acc: 0.9282\n",
      "Epoch 43/90\n",
      "1157/1157 [==============================] - 0s 100us/step - loss: 0.1591 - acc: 0.9300 - val_loss: 0.1845 - val_acc: 0.9229\n",
      "Epoch 44/90\n",
      "1157/1157 [==============================] - 0s 102us/step - loss: 0.1517 - acc: 0.9291 - val_loss: 0.1908 - val_acc: 0.9177\n",
      "Epoch 45/90\n",
      "1157/1157 [==============================] - 0s 100us/step - loss: 0.1836 - acc: 0.9239 - val_loss: 0.2027 - val_acc: 0.9072\n",
      "Epoch 46/90\n",
      "1157/1157 [==============================] - 0s 99us/step - loss: 0.1489 - acc: 0.9369 - val_loss: 0.1663 - val_acc: 0.9299\n",
      "Epoch 47/90\n",
      "1157/1157 [==============================] - 0s 100us/step - loss: 0.1534 - acc: 0.9309 - val_loss: 0.1984 - val_acc: 0.9142\n",
      "Epoch 48/90\n",
      "1157/1157 [==============================] - 0s 100us/step - loss: 0.1486 - acc: 0.9421 - val_loss: 0.1818 - val_acc: 0.9317\n",
      "Epoch 49/90\n",
      "1157/1157 [==============================] - 0s 101us/step - loss: 0.1437 - acc: 0.9404 - val_loss: 0.1646 - val_acc: 0.9299\n",
      "Epoch 50/90\n",
      "1157/1157 [==============================] - 0s 113us/step - loss: 0.1437 - acc: 0.9404 - val_loss: 0.2104 - val_acc: 0.9089\n",
      "Epoch 51/90\n",
      "1157/1157 [==============================] - 0s 132us/step - loss: 0.1770 - acc: 0.9257 - val_loss: 0.1960 - val_acc: 0.9177\n",
      "Epoch 52/90\n",
      "1157/1157 [==============================] - 0s 131us/step - loss: 0.1497 - acc: 0.9395 - val_loss: 0.1724 - val_acc: 0.9282\n",
      "Epoch 53/90\n",
      "1157/1157 [==============================] - 0s 111us/step - loss: 0.1432 - acc: 0.9455 - val_loss: 0.2105 - val_acc: 0.9054\n",
      "Epoch 54/90\n",
      "1157/1157 [==============================] - 0s 104us/step - loss: 0.1472 - acc: 0.9395 - val_loss: 0.1861 - val_acc: 0.9159\n",
      "Epoch 55/90\n",
      "1157/1157 [==============================] - 0s 102us/step - loss: 0.1439 - acc: 0.9421 - val_loss: 0.1711 - val_acc: 0.9212\n",
      "Epoch 56/90\n",
      "1157/1157 [==============================] - 0s 112us/step - loss: 0.1468 - acc: 0.9404 - val_loss: 0.2247 - val_acc: 0.9002\n",
      "Epoch 57/90\n",
      "1157/1157 [==============================] - 0s 110us/step - loss: 0.1485 - acc: 0.9421 - val_loss: 0.1771 - val_acc: 0.9194\n",
      "Epoch 58/90\n",
      "1157/1157 [==============================] - 0s 117us/step - loss: 0.1326 - acc: 0.9499 - val_loss: 0.2012 - val_acc: 0.9212\n",
      "Epoch 59/90\n",
      "1157/1157 [==============================] - 0s 104us/step - loss: 0.1320 - acc: 0.9516 - val_loss: 0.1716 - val_acc: 0.9317\n",
      "Epoch 60/90\n",
      "1157/1157 [==============================] - 0s 112us/step - loss: 0.1348 - acc: 0.9447 - val_loss: 0.1922 - val_acc: 0.9212\n"
     ]
    },
    {
     "name": "stdout",
     "output_type": "stream",
     "text": [
      "Epoch 61/90\n",
      "1157/1157 [==============================] - 0s 105us/step - loss: 0.1279 - acc: 0.9447 - val_loss: 0.1931 - val_acc: 0.9212\n",
      "Epoch 62/90\n",
      "1157/1157 [==============================] - 0s 99us/step - loss: 0.1323 - acc: 0.9499 - val_loss: 0.1841 - val_acc: 0.9282\n",
      "Epoch 63/90\n",
      "1157/1157 [==============================] - 0s 96us/step - loss: 0.1686 - acc: 0.9343 - val_loss: 0.1673 - val_acc: 0.9229\n",
      "Epoch 64/90\n",
      "1157/1157 [==============================] - 0s 97us/step - loss: 0.1318 - acc: 0.9507 - val_loss: 0.1883 - val_acc: 0.9247\n",
      "Epoch 65/90\n",
      "1157/1157 [==============================] - 0s 97us/step - loss: 0.1359 - acc: 0.9438 - val_loss: 0.1601 - val_acc: 0.9370\n",
      "Epoch 66/90\n",
      "1157/1157 [==============================] - 0s 98us/step - loss: 0.1240 - acc: 0.9525 - val_loss: 0.1526 - val_acc: 0.9405\n",
      "Epoch 67/90\n",
      "1157/1157 [==============================] - 0s 99us/step - loss: 0.1243 - acc: 0.9542 - val_loss: 0.2008 - val_acc: 0.9159\n",
      "Epoch 68/90\n",
      "1157/1157 [==============================] - 0s 94us/step - loss: 0.1367 - acc: 0.9481 - val_loss: 0.1842 - val_acc: 0.9247\n",
      "Epoch 69/90\n",
      "1157/1157 [==============================] - 0s 99us/step - loss: 0.1373 - acc: 0.9481 - val_loss: 0.2073 - val_acc: 0.9177\n",
      "Epoch 70/90\n",
      "1157/1157 [==============================] - 0s 101us/step - loss: 0.1257 - acc: 0.9551 - val_loss: 0.1691 - val_acc: 0.9387\n",
      "Epoch 71/90\n",
      "1157/1157 [==============================] - 0s 101us/step - loss: 0.1266 - acc: 0.9516 - val_loss: 0.1680 - val_acc: 0.9352\n",
      "Epoch 72/90\n",
      "1157/1157 [==============================] - 0s 100us/step - loss: 0.1300 - acc: 0.9516 - val_loss: 0.1720 - val_acc: 0.9264\n",
      "Epoch 73/90\n",
      "1157/1157 [==============================] - 0s 98us/step - loss: 0.1366 - acc: 0.9421 - val_loss: 0.1499 - val_acc: 0.9335\n",
      "Epoch 74/90\n",
      "1157/1157 [==============================] - 0s 100us/step - loss: 0.1530 - acc: 0.9309 - val_loss: 0.1735 - val_acc: 0.9282\n",
      "Epoch 75/90\n",
      "1157/1157 [==============================] - 0s 100us/step - loss: 0.1247 - acc: 0.9516 - val_loss: 0.1519 - val_acc: 0.9440\n",
      "Epoch 76/90\n",
      "1157/1157 [==============================] - 0s 99us/step - loss: 0.1294 - acc: 0.9525 - val_loss: 0.1602 - val_acc: 0.9335\n",
      "Epoch 77/90\n",
      "1157/1157 [==============================] - 0s 104us/step - loss: 0.1239 - acc: 0.9602 - val_loss: 0.1621 - val_acc: 0.9370\n",
      "Epoch 78/90\n",
      "1157/1157 [==============================] - 0s 101us/step - loss: 0.1214 - acc: 0.9525 - val_loss: 0.1782 - val_acc: 0.9282\n",
      "Epoch 79/90\n",
      "1157/1157 [==============================] - 0s 101us/step - loss: 0.1260 - acc: 0.9455 - val_loss: 0.1630 - val_acc: 0.9352\n",
      "Epoch 80/90\n",
      "1157/1157 [==============================] - 0s 100us/step - loss: 0.1330 - acc: 0.9447 - val_loss: 0.2069 - val_acc: 0.9247\n",
      "Epoch 81/90\n",
      "1157/1157 [==============================] - 0s 100us/step - loss: 0.1223 - acc: 0.9516 - val_loss: 0.1708 - val_acc: 0.9264\n",
      "Epoch 82/90\n",
      "1157/1157 [==============================] - 0s 101us/step - loss: 0.1230 - acc: 0.9568 - val_loss: 0.1543 - val_acc: 0.9317\n",
      "Epoch 83/90\n",
      "1157/1157 [==============================] - 0s 99us/step - loss: 0.1190 - acc: 0.9602 - val_loss: 0.1792 - val_acc: 0.9282\n",
      "Epoch 84/90\n",
      "1157/1157 [==============================] - 0s 103us/step - loss: 0.1253 - acc: 0.9533 - val_loss: 0.1662 - val_acc: 0.9370\n",
      "Epoch 85/90\n",
      "1157/1157 [==============================] - 0s 99us/step - loss: 0.1193 - acc: 0.9611 - val_loss: 0.1668 - val_acc: 0.9317\n",
      "Epoch 86/90\n",
      "1157/1157 [==============================] - 0s 102us/step - loss: 0.1195 - acc: 0.9559 - val_loss: 0.1776 - val_acc: 0.9264\n",
      "Epoch 87/90\n",
      "1157/1157 [==============================] - 0s 101us/step - loss: 0.1321 - acc: 0.9490 - val_loss: 0.1935 - val_acc: 0.9107\n",
      "Epoch 88/90\n",
      "1157/1157 [==============================] - 0s 102us/step - loss: 0.1213 - acc: 0.9559 - val_loss: 0.1637 - val_acc: 0.9299\n",
      "Epoch 89/90\n",
      "1157/1157 [==============================] - 0s 109us/step - loss: 0.1141 - acc: 0.9602 - val_loss: 0.1452 - val_acc: 0.9440\n",
      "Epoch 90/90\n",
      "1157/1157 [==============================] - 0s 108us/step - loss: 0.1178 - acc: 0.9602 - val_loss: 0.1654 - val_acc: 0.9405\n"
     ]
    },
    {
     "data": {
      "text/plain": [
       "<keras.callbacks.History at 0x2ae68bc7320>"
      ]
     },
     "execution_count": 45,
     "metadata": {},
     "output_type": "execute_result"
    }
   ],
   "source": [
    "model.fit(X_train,y_train,epochs=90,verbose=1,validation_data=(X_test,y_test))"
   ]
  },
  {
   "cell_type": "code",
   "execution_count": 46,
   "metadata": {},
   "outputs": [
    {
     "data": {
      "image/png": "[encoded data removed]",
      "text/plain": [
       "<Figure size 432x288 with 1 Axes>"
      ]
     },
     "metadata": {
      "needs_background": "light"
     },
     "output_type": "display_data"
    }
   ],
   "source": [
    "plt.plot(model.history.history[\"acc\"]);\n",
    "plt.plot(model.history.history[\"val_acc\"]);"
   ]
  },
  {
   "cell_type": "code",
   "execution_count": null,
   "metadata": {},
   "outputs": [],
   "source": []
  },
  {
   "cell_type": "code",
   "execution_count": null,
   "metadata": {},
   "outputs": [],
   "source": []
  }
 ],
 "metadata": {
  "kernelspec": {
   "display_name": "Python 3",
   "language": "python",
   "name": "python3"
  },
  "language_info": {
   "codemirror_mode": {
    "name": "ipython",
    "version": 3
   },
   "file_extension": ".py",
   "mimetype": "text/x-python",
   "name": "python",
   "nbconvert_exporter": "python",
   "pygments_lexer": "ipython3",
   "version": "3.6.8"
  }
 },
 "nbformat": 4,
 "nbformat_minor": 2
}
